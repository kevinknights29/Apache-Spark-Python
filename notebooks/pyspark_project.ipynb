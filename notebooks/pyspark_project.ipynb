{
 "cells": [
  {
   "cell_type": "markdown",
   "id": "34e7f946-84da-4778-8bd5-730bd3041450",
   "metadata": {
    "execution": {
     "iopub.execute_input": "2023-08-26T23:48:53.573038Z",
     "iopub.status.busy": "2023-08-26T23:48:53.571664Z",
     "iopub.status.idle": "2023-08-26T23:48:53.577371Z",
     "shell.execute_reply": "2023-08-26T23:48:53.576323Z",
     "shell.execute_reply.started": "2023-08-26T23:48:53.573001Z"
    }
   },
   "source": [
    "# PySpark Project Notebook "
   ]
  },
  {
   "cell_type": "markdown",
   "id": "77b0bf74-fd86-4e40-ac1e-74383e146974",
   "metadata": {
    "execution": {
     "iopub.execute_input": "2023-08-26T23:48:30.395912Z",
     "iopub.status.busy": "2023-08-26T23:48:30.393713Z",
     "iopub.status.idle": "2023-08-26T23:48:30.409404Z",
     "shell.execute_reply": "2023-08-26T23:48:30.407851Z",
     "shell.execute_reply.started": "2023-08-26T23:48:30.395811Z"
    }
   },
   "source": [
    "## Imports"
   ]
  },
  {
   "cell_type": "code",
   "execution_count": 22,
   "id": "e63cb647-a259-4b36-bee3-09b650c97b52",
   "metadata": {
    "execution": {
     "iopub.execute_input": "2023-08-27T00:23:32.274009Z",
     "iopub.status.busy": "2023-08-27T00:23:32.271058Z",
     "iopub.status.idle": "2023-08-27T00:23:32.284572Z",
     "shell.execute_reply": "2023-08-27T00:23:32.283488Z",
     "shell.execute_reply.started": "2023-08-27T00:23:32.273937Z"
    }
   },
   "outputs": [],
   "source": [
    "import logging\n",
    "import sys\n",
    "\n",
    "import pyspark\n",
    "from pyspark.sql import SparkSession"
   ]
  },
  {
   "cell_type": "markdown",
   "id": "f1daab60-a59e-48f3-831d-0fc1ea4f44b6",
   "metadata": {},
   "source": [
    "## Logger"
   ]
  },
  {
   "cell_type": "code",
   "execution_count": 26,
   "id": "872eb7cf-b393-4c12-aa7e-f8e51a5eceda",
   "metadata": {
    "execution": {
     "iopub.execute_input": "2023-08-27T00:30:43.314153Z",
     "iopub.status.busy": "2023-08-27T00:30:43.311550Z",
     "iopub.status.idle": "2023-08-27T00:30:43.329958Z",
     "shell.execute_reply": "2023-08-27T00:30:43.328969Z",
     "shell.execute_reply.started": "2023-08-27T00:30:43.314085Z"
    }
   },
   "outputs": [],
   "source": [
    "class Log4j:\n",
    "    \"\"\"\n",
    "    Log4j Logger for Spark applications.\n",
    "\n",
    "    This class provides methods to log messages with different severity levels,\n",
    "    including warn, info, error, and debug.\n",
    "\n",
    "    Args:\n",
    "        spark_session (SparkSession): The SparkSession instance for the application.\n",
    "\n",
    "    Attributes:\n",
    "        spark (SparkSession): The SparkSession instance.\n",
    "        logger: The logger from the org.apache.log4j module.\n",
    "        py_logger: The Python logger instance for logging to the console and output.\n",
    "\n",
    "    \"\"\"\n",
    "\n",
    "    def __init__(self, spark_session: SparkSession):\n",
    "        \"\"\"\n",
    "        Initialize the Log4j instance.\n",
    "\n",
    "        Args:\n",
    "            spark_session (SparkSession): The SparkSession instance for the application.\n",
    "        \"\"\"\n",
    "        self.spark = spark_session\n",
    "        self.logger = self.spark._jvm.org.apache.log4j\n",
    "\n",
    "        # Configure Python logging\n",
    "        logging.basicConfig(\n",
    "            stream=sys.stdout,\n",
    "            level=logging.INFO,\n",
    "            format=\"%(asctime)s - %(name)s - %(levelname)s - %(message)s\",\n",
    "        )\n",
    "        self.py_logger = logging.getLogger(__name__)\n",
    "\n",
    "    def warn(self, message: str):\n",
    "        \"\"\"\n",
    "        Log a warning message.\n",
    "\n",
    "        Args:\n",
    "            message (str): The message to log.\n",
    "        \"\"\"\n",
    "        self.logger.warn(message)\n",
    "        self.py_logger.warning(message)\n",
    "\n",
    "    def info(self, message: str):\n",
    "        \"\"\"\n",
    "        Log an information message.\n",
    "\n",
    "        Args:\n",
    "            message (str): The message to log.\n",
    "        \"\"\"\n",
    "        self.logger.info(message)\n",
    "        self.py_logger.info(message)\n",
    "\n",
    "    def error(self, message: str):\n",
    "        \"\"\"\n",
    "        Log an error message.\n",
    "\n",
    "        Args:\n",
    "            message (str): The message to log.\n",
    "        \"\"\"\n",
    "        self.logger.error(message)\n",
    "        self.py_logger.error(message)\n",
    "\n",
    "    def debug(self, message: str):\n",
    "        \"\"\"\n",
    "        Log a debug message.\n",
    "\n",
    "        Args:\n",
    "            message (str): The message to log.\n",
    "        \"\"\"\n",
    "        self.logger.debug(message)\n",
    "        self.py_logger.debug(message)"
   ]
  },
  {
   "cell_type": "markdown",
   "id": "5a4eb0a6-b29a-4c8e-9b59-de2873cd9873",
   "metadata": {},
   "source": [
    "## Starting a session"
   ]
  },
  {
   "cell_type": "code",
   "execution_count": 10,
   "id": "a3670520-1222-48de-b7bf-aa5842dedfc6",
   "metadata": {
    "execution": {
     "iopub.execute_input": "2023-08-26T23:57:05.942830Z",
     "iopub.status.busy": "2023-08-26T23:57:05.941619Z",
     "iopub.status.idle": "2023-08-26T23:57:06.577738Z",
     "shell.execute_reply": "2023-08-26T23:57:06.577272Z",
     "shell.execute_reply.started": "2023-08-26T23:57:05.942786Z"
    }
   },
   "outputs": [],
   "source": [
    "spark = SparkSession.builder.appName(\"Spark Project\").master(\"local[*]\").getOrCreate()"
   ]
  },
  {
   "cell_type": "markdown",
   "id": "4eaca534-4c6d-4e7d-a22c-c85e043a18c4",
   "metadata": {},
   "source": [
    "### Adding logging to session"
   ]
  },
  {
   "cell_type": "code",
   "execution_count": 24,
   "id": "e160a5e2-8a9a-43c8-99fa-2905518fe8a7",
   "metadata": {
    "execution": {
     "iopub.execute_input": "2023-08-27T00:26:08.322595Z",
     "iopub.status.busy": "2023-08-27T00:26:08.321513Z",
     "iopub.status.idle": "2023-08-27T00:26:08.371536Z",
     "shell.execute_reply": "2023-08-27T00:26:08.371022Z",
     "shell.execute_reply.started": "2023-08-27T00:26:08.322562Z"
    }
   },
   "outputs": [
    {
     "name": "stdout",
     "output_type": "stream",
     "text": [
      "2023-08-27 00:26:08,368 - __main__ - INFO - Spark Session started\n"
     ]
    }
   ],
   "source": [
    "logger = Log4j(spark)\n",
    "logger.info(\"Spark Session started\")"
   ]
  },
  {
   "cell_type": "markdown",
   "id": "642091ad-282e-4186-9f23-1305c032d6ea",
   "metadata": {},
   "source": [
    "## Stopping a session"
   ]
  },
  {
   "cell_type": "code",
   "execution_count": 27,
   "id": "1b4964ae-6687-4a01-99fe-9b1ce5000e02",
   "metadata": {
    "execution": {
     "iopub.execute_input": "2023-08-27T00:30:52.448993Z",
     "iopub.status.busy": "2023-08-27T00:30:52.447896Z",
     "iopub.status.idle": "2023-08-27T00:30:52.479376Z",
     "shell.execute_reply": "2023-08-27T00:30:52.477437Z",
     "shell.execute_reply.started": "2023-08-27T00:30:52.448963Z"
    }
   },
   "outputs": [
    {
     "name": "stdout",
     "output_type": "stream",
     "text": [
      "2023-08-27 00:30:52,461 - __main__ - INFO - Stopping Spark Session\n"
     ]
    }
   ],
   "source": [
    "logger.info(\"Stopping Spark Session\")\n",
    "spark.stop()"
   ]
  }
 ],
 "metadata": {
  "kernelspec": {
   "display_name": "Python 3 (ipykernel)",
   "language": "python",
   "name": "python3"
  },
  "language_info": {
   "codemirror_mode": {
    "name": "ipython",
    "version": 3
   },
   "file_extension": ".py",
   "mimetype": "text/x-python",
   "name": "python",
   "nbconvert_exporter": "python",
   "pygments_lexer": "ipython3",
   "version": "3.11.4"
  }
 },
 "nbformat": 4,
 "nbformat_minor": 5
}
